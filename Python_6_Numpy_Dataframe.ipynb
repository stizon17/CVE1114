{
  "nbformat": 4,
  "nbformat_minor": 0,
  "metadata": {
    "colab": {
      "provenance": [],
      "authorship_tag": "ABX9TyMrupieIte7OYzUO5eynljR",
      "include_colab_link": true
    },
    "kernelspec": {
      "name": "python3",
      "display_name": "Python 3"
    },
    "language_info": {
      "name": "python"
    }
  },
  "cells": [
    {
      "cell_type": "markdown",
      "metadata": {
        "id": "view-in-github",
        "colab_type": "text"
      },
      "source": [
        "<a href=\"https://colab.research.google.com/github/stizon17/CVE1114/blob/main/Python_6_Numpy_Dataframe.ipynb\" target=\"_parent\"><img src=\"https://colab.research.google.com/assets/colab-badge.svg\" alt=\"Open In Colab\"/></a>"
      ]
    },
    {
      "cell_type": "code",
      "source": [
        "import numpy as np\n",
        "toy_list = [1,2,3,4]\n",
        "init_array1  = np.array(toy_list)\n",
        "init_array2 = np.array([1,2,3,4,5])\n",
        "print(toy_list)\n",
        "print(init_array1)\n",
        "print(init_array2)"
      ],
      "metadata": {
        "colab": {
          "base_uri": "https://localhost:8080/"
        },
        "id": "m-gMC5T2Ef_2",
        "outputId": "d25f8fe1-40bd-4d31-d9ff-acc2538e21b3"
      },
      "execution_count": null,
      "outputs": [
        {
          "output_type": "stream",
          "name": "stdout",
          "text": [
            "[1, 2, 3, 4]\n",
            "[1 2 3 4]\n",
            "[1 2 3 4 5]\n"
          ]
        }
      ]
    },
    {
      "cell_type": "code",
      "source": [
        "two_dimensional_array = np.array([[1,2,3,4], [5,6,7,8], [9,10,11,12]])\n",
        "print(two_dimensional_array)"
      ],
      "metadata": {
        "colab": {
          "base_uri": "https://localhost:8080/"
        },
        "id": "46yV7Cc5Guzz",
        "outputId": "73d0bab8-886c-47db-a754-2a5d52435ace"
      },
      "execution_count": null,
      "outputs": [
        {
          "output_type": "stream",
          "name": "stdout",
          "text": [
            "[[ 1  2  3  4]\n",
            " [ 5  6  7  8]\n",
            " [ 9 10 11 12]]\n"
          ]
        }
      ]
    },
    {
      "cell_type": "code",
      "source": [
        "filled_with_ones = np.ones((2,2))\n",
        "print(filled_with_ones)\n",
        "print(filled_with_ones.shape)"
      ],
      "metadata": {
        "colab": {
          "base_uri": "https://localhost:8080/"
        },
        "id": "yggnB-kEHEuJ",
        "outputId": "8069630d-7558-4f08-8eba-d1add9b69969"
      },
      "execution_count": null,
      "outputs": [
        {
          "output_type": "stream",
          "name": "stdout",
          "text": [
            "[[1. 1.]\n",
            " [1. 1.]]\n",
            "(2, 2)\n"
          ]
        }
      ]
    },
    {
      "cell_type": "code",
      "source": [
        "empty_array = np.empty(2)\n",
        "print(empty_array)"
      ],
      "metadata": {
        "colab": {
          "base_uri": "https://localhost:8080/"
        },
        "id": "ZglqglSPHc-S",
        "outputId": "a00b26f4-4b77-4170-abba-d4b2a289ecee"
      },
      "execution_count": null,
      "outputs": [
        {
          "output_type": "stream",
          "name": "stdout",
          "text": [
            "[1.74949199e-316 2.12199579e-314]\n"
          ]
        }
      ]
    },
    {
      "cell_type": "code",
      "source": [
        "rng = np.random.default_rng()\n",
        "print(rng.random((3,3)))"
      ],
      "metadata": {
        "colab": {
          "base_uri": "https://localhost:8080/"
        },
        "id": "hfVUKp0lISrV",
        "outputId": "6cfe8965-b826-41ce-fc7e-293bcaa76688"
      },
      "execution_count": null,
      "outputs": [
        {
          "output_type": "stream",
          "name": "stdout",
          "text": [
            "[[0.1443359  0.30230209 0.21417299]\n",
            " [0.8662785  0.24131052 0.38251464]\n",
            " [0.90012482 0.9309062  0.39846038]]\n"
          ]
        }
      ]
    },
    {
      "cell_type": "code",
      "source": [
        "print(rng.integers(10, size=5))"
      ],
      "metadata": {
        "colab": {
          "base_uri": "https://localhost:8080/"
        },
        "id": "D5GRtjITIjSz",
        "outputId": "0127e601-c05e-414f-fe74-4c54ebd30d34"
      },
      "execution_count": null,
      "outputs": [
        {
          "output_type": "stream",
          "name": "stdout",
          "text": [
            "[7 5 6 1 5]\n"
          ]
        }
      ]
    },
    {
      "cell_type": "code",
      "source": [
        "print(rng.integers(10, size=(2,2)))"
      ],
      "metadata": {
        "colab": {
          "base_uri": "https://localhost:8080/"
        },
        "id": "G3mqShPhI0LG",
        "outputId": "255c48dd-1719-441b-f34d-c3fed68915e5"
      },
      "execution_count": null,
      "outputs": [
        {
          "output_type": "stream",
          "name": "stdout",
          "text": [
            "[[3 2]\n",
            " [8 9]]\n"
          ]
        }
      ]
    },
    {
      "cell_type": "code",
      "source": [
        "np_arange = np.arange(10)\n",
        "print(np_arange)"
      ],
      "metadata": {
        "colab": {
          "base_uri": "https://localhost:8080/"
        },
        "id": "wyXkJcUKI-9s",
        "outputId": "de316e1f-7375-481f-9da9-beaf72417bc0"
      },
      "execution_count": null,
      "outputs": [
        {
          "output_type": "stream",
          "name": "stdout",
          "text": [
            "[0 1 2 3 4 5 6 7 8 9]\n"
          ]
        }
      ]
    },
    {
      "cell_type": "code",
      "source": [
        "a = np.array([1,2,3,4])\n",
        "b = np.array([5,6,7,8])\n",
        "ab = np.concatenate((a,b))\n",
        "print(a)\n",
        "print(b)\n",
        "print(ab)"
      ],
      "metadata": {
        "colab": {
          "base_uri": "https://localhost:8080/"
        },
        "id": "lOSnLXz7MHKG",
        "outputId": "54512833-a5c6-4c0e-e739-a4623d42d752"
      },
      "execution_count": null,
      "outputs": [
        {
          "output_type": "stream",
          "name": "stdout",
          "text": [
            "[1 2 3 4]\n",
            "[5 6 7 8]\n",
            "[1 2 3 4 5 6 7 8]\n"
          ]
        }
      ]
    },
    {
      "cell_type": "code",
      "source": [
        "x = np.array([[1,2], [3,4]])\n",
        "y = np.array([[5,6]])\n",
        "z = np.concatenate((x,y), axis=0)\n",
        "print(z)"
      ],
      "metadata": {
        "colab": {
          "base_uri": "https://localhost:8080/"
        },
        "id": "RCPbpszOMZRh",
        "outputId": "3ae4676f-517c-45ed-bc22-6d456afe703a"
      },
      "execution_count": null,
      "outputs": [
        {
          "output_type": "stream",
          "name": "stdout",
          "text": [
            "[[1 2]\n",
            " [3 4]\n",
            " [5 6]]\n"
          ]
        }
      ]
    },
    {
      "cell_type": "code",
      "source": [
        "x = np.array([[1,2], [3,4]])\n",
        "y = np.array([[5,6]])\n",
        "print(x.shape)\n",
        "print(y.shape)\n",
        "z = np.concatenate((x,y), axis=0)\n",
        "print(z)"
      ],
      "metadata": {
        "colab": {
          "base_uri": "https://localhost:8080/"
        },
        "id": "D_4t4o6bMu4E",
        "outputId": "e30ad38b-52c3-497d-e684-e007fcb2562e"
      },
      "execution_count": null,
      "outputs": [
        {
          "output_type": "stream",
          "name": "stdout",
          "text": [
            "(2, 2)\n",
            "(1, 2)\n",
            "[[1 2]\n",
            " [3 4]\n",
            " [5 6]]\n"
          ]
        }
      ]
    },
    {
      "cell_type": "code",
      "source": [
        "x = np.array([[1,2], [3,4]])\n",
        "y = np.array([[5,6]])\n",
        "print(x.shape)\n",
        "print(y.shape)\n",
        "z = np.concatenate((x,y.T), axis=1)\n",
        "print(z)"
      ],
      "metadata": {
        "colab": {
          "base_uri": "https://localhost:8080/"
        },
        "id": "OPnGzpg1NB_l",
        "outputId": "5c6be17c-b79a-4d0f-fcc8-3f947d370e55"
      },
      "execution_count": null,
      "outputs": [
        {
          "output_type": "stream",
          "name": "stdout",
          "text": [
            "(2, 2)\n",
            "(1, 2)\n",
            "[[1 2 5]\n",
            " [3 4 6]]\n"
          ]
        }
      ]
    },
    {
      "cell_type": "code",
      "source": [
        "arr = np.array([2,1,5,3,7,4,6,8])\n",
        "print(arr)\n",
        "np.sort(arr)\n",
        "print(arr)"
      ],
      "metadata": {
        "colab": {
          "base_uri": "https://localhost:8080/"
        },
        "id": "zGaUNoWhNXI7",
        "outputId": "fccb3e93-935b-453b-f2e8-94997318537c"
      },
      "execution_count": null,
      "outputs": [
        {
          "output_type": "stream",
          "name": "stdout",
          "text": [
            "[2 1 5 3 7 4 6 8]\n",
            "[2 1 5 3 7 4 6 8]\n"
          ]
        }
      ]
    },
    {
      "cell_type": "code",
      "source": [
        "arr = np.array([2,1,5,3,7,4,6,8])\n",
        "print(arr)\n",
        "sorted_arr = np.sort(arr)\n",
        "print(sorted_arr)"
      ],
      "metadata": {
        "colab": {
          "base_uri": "https://localhost:8080/"
        },
        "id": "i_Cj4G2bNlQP",
        "outputId": "9992a755-715e-472c-ee8f-57269e26c8b7"
      },
      "execution_count": null,
      "outputs": [
        {
          "output_type": "stream",
          "name": "stdout",
          "text": [
            "[2 1 5 3 7 4 6 8]\n",
            "[1 2 3 4 5 6 7 8]\n"
          ]
        }
      ]
    },
    {
      "cell_type": "code",
      "source": [
        "data = np.array([1,2,3])\n",
        "print(data[0])\n",
        "print(data[:])\n",
        "print(data[0:2]) #data[start : end-1]\n",
        "print(data[1:]) #data[start: ], you specify the start index and all. the way to the end"
      ],
      "metadata": {
        "colab": {
          "base_uri": "https://localhost:8080/"
        },
        "id": "xbs-jGh3WWGD",
        "outputId": "d036d525-4c6a-4c90-f642-9c46a6a9b35d"
      },
      "execution_count": null,
      "outputs": [
        {
          "output_type": "stream",
          "name": "stdout",
          "text": [
            "1\n",
            "[1 2 3]\n",
            "[1 2]\n",
            "[2 3]\n"
          ]
        }
      ]
    },
    {
      "cell_type": "code",
      "source": [
        "import matplotlib.pyplot as plt\n",
        "\n",
        "a = np.array([5,4,3,2,9])\n",
        "print(a)\n",
        "\n",
        "plt.plot(a) #google matplotlib"
      ],
      "metadata": {
        "colab": {
          "base_uri": "https://localhost:8080/",
          "height": 301
        },
        "id": "YQsfVBhSeY3m",
        "outputId": "4e407791-6871-48e6-e9b1-8220d784a2fe"
      },
      "execution_count": null,
      "outputs": [
        {
          "output_type": "stream",
          "name": "stdout",
          "text": [
            "[5 4 3 2 9]\n"
          ]
        },
        {
          "output_type": "execute_result",
          "data": {
            "text/plain": [
              "[<matplotlib.lines.Line2D at 0x7fb060809850>]"
            ]
          },
          "metadata": {},
          "execution_count": 26
        },
        {
          "output_type": "display_data",
          "data": {
            "text/plain": [
              "<Figure size 432x288 with 1 Axes>"
            ],
            "image/png": "[encoded data removed]"
          },
          "metadata": {
            "needs_background": "light"
          }
        }
      ]
    },
    {
      "cell_type": "code",
      "source": [
        "import pandas as pd\n",
        "df_toy = pd.DataFrame(\n",
        "    {\"Name\":[\"A\", \"B\",  \"C\"], \"Age\":[19,20,21], \"Gender\": [\"Male\", \"Female\", \"Female\"]})\n",
        "print(df_toy)\n",
        "\n",
        "print(df_toy[\"Age\"].std())\n",
        "\n",
        "df_toy.to_csv(\"toy.csv\")\n",
        "\n",
        "df_abc = pd.read_csv(\"toy.csv\")\n",
        "print(df_abc)\n",
        "\n",
        "above_20_names = df_toy.loc[df_toy[\"Age\"]>=20, \"Gender\"]\n",
        "print(above_20_names)"
      ],
      "metadata": {
        "colab": {
          "base_uri": "https://localhost:8080/"
        },
        "id": "QBTQ_S66hfDQ",
        "outputId": "fc07810f-0991-4469-baa6-c8abbf2091ba"
      },
      "execution_count": null,
      "outputs": [
        {
          "output_type": "stream",
          "name": "stdout",
          "text": [
            "  Name  Age  Gender\n",
            "0    A   19    Male\n",
            "1    B   20  Female\n",
            "2    C   21  Female\n",
            "1.0\n",
            "   Unnamed: 0 Name  Age  Gender\n",
            "0           0    A   19    Male\n",
            "1           1    B   20  Female\n",
            "2           2    C   21  Female\n",
            "1    Female\n",
            "2    Female\n",
            "Name: Gender, dtype: object\n"
          ]
        }
      ]
    },
    {
      "cell_type": "code",
      "source": [
        "import pandas as pd\n",
        "import numpy as np\n",
        "\n",
        "df_student_score = pd.DataFrame({\"Name\": [\"Smith\", \"King\", \"Marter\"], \"Homework Score\": [98,76,43], \"Exam Score\": [72,99,92]})\n",
        "print(df_student_score)\n",
        "\n",
        "df_student_score.to_csv(\"student_score.csv\")\n",
        "\n",
        "def compute_letter_grade(filename, hw_weight, exam_weight):\n",
        "  df_this_student_score = pd.read_csv(filename)\n",
        "\n",
        "  letter_grade_list = []\n",
        "  for index, row in df_this_student_score.iterrows():\n",
        "    hw_s = row[\"Homework Score\"]\n",
        "    exam_s = row[\"Exam Score\"]\n",
        "\n",
        "    hw_final = hw_s * hw_weight\n",
        "    exam_final = exam_s * exam_weight\n",
        "\n",
        "    total_score = hw_final + exam_final\n",
        "\n",
        "    if total_score > 70:\n",
        "      letter_grade = \"PASS\"\n",
        "    else:\n",
        "      letter_grade = \"FAIL\"\n",
        "    \n",
        "    print(hw_final, exam_final, total_score, letter_grade)\n",
        "    letter_grade_list.append(letter_grade)\n",
        "\n",
        "  return letter_grade_list\n",
        "\n",
        "grade = compute_letter_grade(\"student_score.csv\", hw_weight=0.7, exam_weight=0.3)\n",
        "\n",
        "df_student_score[\"Grade\"] = grade"
      ],
      "metadata": {
        "colab": {
          "base_uri": "https://localhost:8080/"
        },
        "id": "Buz-5hR4jdM4",
        "outputId": "e7bbb92f-d1b2-4e87-c237-266c684cea69"
      },
      "execution_count": null,
      "outputs": [
        {
          "output_type": "stream",
          "name": "stdout",
          "text": [
            "     Name  Homework Score  Exam Score\n",
            "0   Smith              98          72\n",
            "1    King              76          99\n",
            "2  Marter              43          92\n",
            "68.6 21.599999999999998 90.19999999999999 PASS\n",
            "53.199999999999996 29.7 82.89999999999999 PASS\n",
            "30.099999999999998 27.599999999999998 57.699999999999996 FAIL\n"
          ]
        },
        {
          "output_type": "execute_result",
          "data": {
            "text/plain": [
              "['PASS', 'PASS', 'FAIL']"
            ]
          },
          "metadata": {},
          "execution_count": 38
        }
      ]
    }
  ]
}