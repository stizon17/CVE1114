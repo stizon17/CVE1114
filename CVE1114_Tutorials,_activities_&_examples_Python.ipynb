{
  "nbformat": 4,
  "nbformat_minor": 0,
  "metadata": {
    "colab": {
      "provenance": [],
      "authorship_tag": "ABX9TyP9qC6gNZ9cppiO7frzBo6S",
      "include_colab_link": true
    },
    "kernelspec": {
      "name": "python3",
      "display_name": "Python 3"
    },
    "language_info": {
      "name": "python"
    }
  },
  "cells": [
    {
      "cell_type": "markdown",
      "metadata": {
        "id": "view-in-github",
        "colab_type": "text"
      },
      "source": [
        "<a href=\"https://colab.research.google.com/github/stizon17/CVE1114/blob/Google-Collab-Lectures-%26-Tutorials/CVE1114_Tutorials%2C_activities_%26_examples_Python.ipynb\" target=\"_parent\"><img src=\"https://colab.research.google.com/assets/colab-badge.svg\" alt=\"Open In Colab\"/></a>"
      ]
    },
    {
      "cell_type": "markdown",
      "source": [
        "Tutorial 1 Question 1:\n",
        "\n",
        "Prompt for two float numbers as the length and width of a rectangle. Print a message to display the area and the perimeter of the rectangle you set.\n",
        "\\\n",
        "*For example: *\n",
        "*“The rectangle area is 0.75000 m^2, the perimeter is 4.00000 m.”*\n",
        "\\\n",
        "Input parameter: length = 1.5; width = 0.5\n"
      ],
      "metadata": {
        "id": "cJVMiXiChvEM"
      }
    },
    {
      "cell_type": "code",
      "source": [
        "#Tutorial 1 - Question 1\n",
        "length = float(input(\"ENter the length: \"))\n",
        "width = float(input(\"Enter the width: \"))\n",
        "area = length*length\n",
        "perimeter = 2*length + 2*width\n",
        "print(\"The rectangle area is %s m^2, the perimenter is %f m.\" %(area,perimeter))"
      ],
      "metadata": {
        "id": "B2XDESIDUh6e",
        "colab": {
          "base_uri": "https://localhost:8080/"
        },
        "outputId": "7a1c769e-4258-4102-83c8-8f25c99feb2a"
      },
      "execution_count": null,
      "outputs": [
        {
          "output_type": "stream",
          "name": "stdout",
          "text": [
            "ENter the length: 1.0\n",
            "Enter the width: 0.5\n",
            "The rectangle area is 1.0 m^2, the perimenter is 3.000000 m.\n"
          ]
        }
      ]
    },
    {
      "cell_type": "markdown",
      "source": [
        "Tutorial 1 Question 2:\n",
        "\n",
        "Create a Python program and ask a user to type a city name, the distance (km)\n",
        "and the car speed (m/s).\n",
        "\\\n",
        "Print out a message to display how long the travelling time (x minutes and y\n",
        "seconds) is to arrive in the city.\n",
        "\\\n",
        "*For example, the printed message is*\n",
        "*“The estimated travelling time to JB would be 16 minutes”.*\n",
        "Input parameter: city name = JB; distance = 20 km; mean speed = 20 m/s"
      ],
      "metadata": {
        "id": "hlDZP5bXij1F"
      }
    },
    {
      "cell_type": "code",
      "execution_count": null,
      "metadata": {
        "id": "VDWWcVa4UaGn",
        "colab": {
          "base_uri": "https://localhost:8080/"
        },
        "outputId": "662530fd-b2f1-4c2f-c7fd-5a1894746d7c"
      },
      "outputs": [
        {
          "output_type": "stream",
          "name": "stdout",
          "text": [
            "City you're going to: JB\n",
            "How far is the city from here? (in km): 20\n",
            "The car speed is (in m/s): 20\n",
            "The estimated travelling time in JB would be 16 minitues\n"
          ]
        }
      ],
      "source": [
        "#Tutorial 1 - Question 2 \n",
        "city = input(\"City you're going to: \")\n",
        "distance = float(input(\"How far is the city from here? (in km): \"))\n",
        "speed = float(input(\"The car speed is (in m/s): \"))\n",
        "time = (distance*1000)/speed\n",
        "ett = int(time/60)\n",
        "print(\"The estimated travelling time in %s would be %d minitues\" %(city, ett))"
      ]
    },
    {
      "cell_type": "markdown",
      "source": [
        "Tutorial 2 Question 1\n",
        "\n",
        "**Develop a Python program** that reads a letter of the alphabet from the user. If the letter typed is “a”, “e”, “i”, “o”, “u”, or “A”, “E”, “I”, “O”, “U”, then convert this letter from lower case to upper case, visa versa. Finally display a message indicating that the converted letter is a vowel. Otherwise display a message indicating that the typed letter is a consonant.\n",
        "\\\n",
        "*For example,*\n",
        "\\\n",
        "*“E is a vowel.” or “K is a consonant.”*"
      ],
      "metadata": {
        "id": "isO3qAmajduU"
      }
    },
    {
      "cell_type": "code",
      "source": [
        "# Tutorial 2 Question 1 \n",
        "xyz = input(\"enter a letter: \")\n",
        "lower_vowel= [\"a\", \"e\", \"i\", \"o\", \"u\"]\n",
        "upper_vowel= [\"A\",  \"E\", \"I\", \"O\", \"U\"]\n",
        "\n",
        "if xyz in lower_vowel:\n",
        "  letter = xyz.upper()\n",
        "  print(letter, \"is a vowel.\")\n",
        "elif xyz in upper_vowel:\n",
        "  letter = xyz.lower()\n",
        "  print(letter, \"is a vowel.\")\n",
        "else:\n",
        "  print(\"it's a consonant.\")"
      ],
      "metadata": {
        "colab": {
          "base_uri": "https://localhost:8080/"
        },
        "id": "AyntPS6AaGUX",
        "outputId": "05d80f36-25c9-487d-8a88-860ef2fa001e"
      },
      "execution_count": null,
      "outputs": [
        {
          "output_type": "stream",
          "name": "stdout",
          "text": [
            "enter a letter: K\n",
            "it's a consonant.\n"
          ]
        }
      ]
    },
    {
      "cell_type": "markdown",
      "source": [
        "Tutorial 2 Question 2\n",
        "\n",
        "Given a list with elements [“CVE”, 1114, 4, “Cohort”, 2022, “Friday”, 2, “4”].\n",
        "\\\n",
        "a) Get the position index of element 2022.\n",
        "\\\n",
        "b) Then add two more numbers typed by users in the list: one is an int number at the end of the list, and the other is a float number at the position after the element 2020’s index.\n",
        "\\\n",
        "c) Then display how many elements are in the list.\n",
        "\\\n",
        "d) Check if the element “4” is in the list. If yes, remove it from the list, and print a message “Remove \"4\" from the list”. Display all elements of this list.\n",
        "\\\n",
        "e) Finally, reverse the order of the list, and display it."
      ],
      "metadata": {
        "id": "ITwvsw58kImC"
      }
    },
    {
      "cell_type": "code",
      "source": [
        "#Tutorial 2 Question 2\n",
        "list = [\"CVE\", \"1114\", 4, \"Cohort\", 2022, \"Friday\", 2, \"4\"]\n",
        "\n",
        "index_num = list.index(2022)\n",
        "print(index_num)\n",
        "\n",
        "new_int = int(input(\"enter an int num: \"))\n",
        "new_float = float(input(\"enter a float num: \"))\n",
        "\n",
        "list.append(new_int)\n",
        "list.insert(index_num+1, new_float)\n",
        "print(list)\n",
        "\n",
        "print(f\"the length of the lists is {len(list)}\")\n",
        "\n",
        "if \"4\"in list:\n",
        "  print(\"remove '4' from the list\")\n",
        "  list.remove(\"4\")\n",
        "  print(list)\n",
        "\n",
        "list.reverse()\n",
        "print(list)"
      ],
      "metadata": {
        "colab": {
          "base_uri": "https://localhost:8080/"
        },
        "id": "xd92sAijb_xf",
        "outputId": "34924023-1d73-4655-8c0e-cfac0299b9b8"
      },
      "execution_count": null,
      "outputs": [
        {
          "output_type": "stream",
          "name": "stdout",
          "text": [
            "4\n",
            "enter an int num: 23\n",
            "enter a float num: 1.2\n",
            "['CVE', '1114', 4, 'Cohort', 2022, 1.2, 'Friday', 2, '4', 23]\n",
            "the length of the lists is 10\n",
            "remove '4' from the list\n",
            "['CVE', '1114', 4, 'Cohort', 2022, 1.2, 'Friday', 2, 23]\n",
            "[23, 2, 'Friday', 1.2, 2022, 'Cohort', 4, '1114', 'CVE']\n"
          ]
        }
      ]
    },
    {
      "cell_type": "markdown",
      "source": [
        "Tutorial 2 Question 3\n",
        "\n",
        "**Write a Python program** to find all numbers which are divisible by 6 but are not a multiple of 4, between 100 and 1200 (both included). These numbers should be printed in a single line, with a comma separated in between. At the end of the program, print a string “Done”."
      ],
      "metadata": {
        "id": "JQXc2FUOkiHE"
      }
    },
    {
      "cell_type": "code",
      "source": [
        "#Tutorial 2 Question 3\n",
        "for i in range(100,1201):\n",
        "  if ((i % 6) == 0 and (1 % 4) != 0):\n",
        "    print (i, end=',')\n",
        "print(\"done\")"
      ],
      "metadata": {
        "colab": {
          "base_uri": "https://localhost:8080/"
        },
        "id": "AKngetXaetlm",
        "outputId": "da8340e4-9521-445e-9d73-3941b9d4bbd1"
      },
      "execution_count": null,
      "outputs": [
        {
          "output_type": "stream",
          "name": "stdout",
          "text": [
            "102,108,114,120,126,132,138,144,150,156,162,168,174,180,186,192,198,204,210,216,222,228,234,240,246,252,258,264,270,276,282,288,294,300,306,312,318,324,330,336,342,348,354,360,366,372,378,384,390,396,402,408,414,420,426,432,438,444,450,456,462,468,474,480,486,492,498,504,510,516,522,528,534,540,546,552,558,564,570,576,582,588,594,600,606,612,618,624,630,636,642,648,654,660,666,672,678,684,690,696,702,708,714,720,726,732,738,744,750,756,762,768,774,780,786,792,798,804,810,816,822,828,834,840,846,852,858,864,870,876,882,888,894,900,906,912,918,924,930,936,942,948,954,960,966,972,978,984,990,996,1002,1008,1014,1020,1026,1032,1038,1044,1050,1056,1062,1068,1074,1080,1086,1092,1098,1104,1110,1116,1122,1128,1134,1140,1146,1152,1158,1164,1170,1176,1182,1188,1194,1200,done\n"
          ]
        }
      ]
    },
    {
      "cell_type": "markdown",
      "source": [
        "Tutorial 2 Question 4\n",
        "\n",
        "Write a Python program using for loop which can compute the factorial of a given\n",
        "number which is typed in from users (factorial of x means x×(x-1)×(x-\n",
        "2)×...×2×1). Display the result in this format,\n",
        "\\\n",
        "*For example: *\n",
        "\\\n",
        "*“Factorial of input 4 is 24.”*\n",
        "\n",
        "\n"
      ],
      "metadata": {
        "id": "u_ZCokbYkzBx"
      }
    },
    {
      "cell_type": "code",
      "source": [
        "#Tutorial 2 Question 4\n",
        "num = int(input(\"enter a number: \"))\n",
        "y = 1\n",
        "for i in range(1, num+1):\n",
        "  y *= i\n",
        "  print(y)\n",
        "print(\"Factorial of input num {} is {}\" .format(num,y))"
      ],
      "metadata": {
        "colab": {
          "base_uri": "https://localhost:8080/"
        },
        "id": "rFXhP1UFgpeh",
        "outputId": "5daee611-1f0f-4324-9270-6a2c6809aa95"
      },
      "execution_count": null,
      "outputs": [
        {
          "output_type": "stream",
          "name": "stdout",
          "text": [
            "enter a number: 3\n",
            "1\n",
            "2\n",
            "6\n",
            "Factorial of input num 3 is 6\n"
          ]
        }
      ]
    },
    {
      "cell_type": "markdown",
      "source": [
        "Tutorial 2 Question 5\n",
        "\n",
        "Create a Python program using while loop, and keep waiting for users to type in a positive number through the keyboard. Whenever the input number is negative, keep prompting users to re-enter again, until a positive number is typed in. Once a positive number is typed in, display it in a percentage format.\n",
        "\\\n",
        "For example,\n",
        "\\\n",
        "if a number -1.23 is typed in, the Python program prints out a message *“Enter a positive number: ”* and waits for the next number input. If a number 3.45 is typed in,\n",
        "print out a message:  *It is: 345.0%.*"
      ],
      "metadata": {
        "id": "EPOqMHS3lZIr"
      }
    },
    {
      "cell_type": "code",
      "source": [
        "#Tutorial 2 Question 5\n",
        "po_num = -1\n",
        "while po_num<0 :\n",
        "  str_input = input(\"enter a positive number: \")\n",
        "  po_num = float(str_input)\n",
        "\n",
        "print(f\"It is : {po_num:0.1f}%\")\n"
      ],
      "metadata": {
        "colab": {
          "base_uri": "https://localhost:8080/"
        },
        "id": "lhAQTOtghz2i",
        "outputId": "539d0163-7156-4951-b486-4a568d2077e0"
      },
      "execution_count": null,
      "outputs": [
        {
          "output_type": "stream",
          "name": "stdout",
          "text": [
            "enter a positive number: -4\n",
            "enter a positive number: 4\n",
            "It is : 4.0%\n"
          ]
        }
      ]
    },
    {
      "cell_type": "markdown",
      "source": [
        "Tutorial 2 Question 6\n",
        "\n",
        "Develop a Python code to ask users to type in an int number, which is the input to a Python function. Use Python function with the return value True or False, to indicate whether this number is in the range between -10 and 30 (both are included). Display the result at the calling function (True or False)."
      ],
      "metadata": {
        "id": "AhBbzGjnl54I"
      }
    },
    {
      "cell_type": "code",
      "source": [
        "#Tutorial 2 Question 6\n",
        "num = int(input(\"enter an int num\"))\n",
        "\n",
        "def fn_06(n):\n",
        "  if n in range(-10,30+1):\n",
        "    return True\n",
        "  else:\n",
        "    return False\n",
        "\n",
        "print(fn_06(num))"
      ],
      "metadata": {
        "colab": {
          "base_uri": "https://localhost:8080/"
        },
        "id": "hKYbWYL0iqYS",
        "outputId": "5a507c4f-8f3e-45ae-e9c2-37c98458e3d7"
      },
      "execution_count": null,
      "outputs": [
        {
          "output_type": "stream",
          "name": "stdout",
          "text": [
            "enter an int num-11\n",
            "False\n"
          ]
        }
      ]
    },
    {
      "cell_type": "markdown",
      "source": [
        "Tutorial 2 Question 7\n",
        "\n",
        "Ask users to type in two strings (first name and last name of a person) through the keyboard. **Write a Python function** to take these 2 strings as inputs, and joint these 2 strings by using white space. Return the new string as the full name of a person. Display a message at the calling function “Hello, New String”.\n",
        "\n",
        "*For example,*\n",
        "\\\n",
        "*Enter the first name: Alan*\n",
        "\\\n",
        "*Enter the second name: Dell*\n",
        "\\\n",
        "*Hello, Alan Dell*"
      ],
      "metadata": {
        "id": "9n0abBcpmEf3"
      }
    },
    {
      "cell_type": "code",
      "source": [
        "#Tutorial 2 Question 7\n",
        "first_name = input(\"enter your first name: \")\n",
        "last_name = input(\"enter ypur last name: \")\n",
        "\n",
        "def name (first_name, last_name):\n",
        "  return first_name.capitalize() + '' + last_name.upper()\n",
        "\n",
        "print(\"hi \" + name(first_name, last_name))"
      ],
      "metadata": {
        "colab": {
          "base_uri": "https://localhost:8080/"
        },
        "id": "x__PreT8ju8X",
        "outputId": "9923ff2b-a784-4a9a-c14e-8353e5b4b553"
      },
      "execution_count": null,
      "outputs": [
        {
          "output_type": "stream",
          "name": "stdout",
          "text": [
            "enter your first name: steph\n",
            "enter ypur last name: tizon\n",
            "hi StephTIZON\n"
          ]
        }
      ]
    },
    {
      "cell_type": "markdown",
      "source": [
        "Tutorial 2 Question 8\n",
        "\n",
        "For a Python function as follows, please write the equivalent lambda function, and display the result.\n",
        "\n",
        "\n",
        "\n",
        "```\n",
        "def fn_Q8(x, y, z):   # define a function\n",
        "value = (x + y) * z   # local variable\n",
        "\n",
        "return value   # return value\n",
        "\n",
        "result = fn_Q8(30, 20, 10) # function call\n",
        "print(result) # display result\n",
        "```\n",
        "\n"
      ],
      "metadata": {
        "id": "i7qW1K6zm0am"
      }
    },
    {
      "cell_type": "code",
      "source": [
        "#Tutorial 2 Question 8\n",
        "result = (lambda x, y, z : (x+y)*z)\n",
        "print(result(30,20,10))"
      ],
      "metadata": {
        "colab": {
          "base_uri": "https://localhost:8080/"
        },
        "id": "IePzMA9Fk3Eu",
        "outputId": "41564b1d-4002-45cf-e56e-764f90765718"
      },
      "execution_count": null,
      "outputs": [
        {
          "output_type": "stream",
          "name": "stdout",
          "text": [
            "500\n"
          ]
        }
      ]
    },
    {
      "cell_type": "markdown",
      "source": [
        "Tutorial 2 Question 9\n",
        "\n",
        "What is the outcome of the map function as follows? Please re-write the equivalent lambda function and display the results.\n",
        "\n",
        "\n",
        "\n",
        "```\n",
        "def fn_Q9(in1, in2):   # define a function with 2 inputs\n",
        "return in1 * in2 + 2   # return value\n",
        "arg1 = [1, 2, 3, 4]    # input argument 1\n",
        "arg2 = [5, 6, 7, 8]    # input argument 2\n",
        "result = map(fn_Q9, arg1, arg2)   # map() function\n",
        "result = list(result)             # output list\n",
        "print(result)                     # print the list\n",
        "```\n",
        "\n"
      ],
      "metadata": {
        "id": "RuCzlUy-nfEO"
      }
    },
    {
      "cell_type": "code",
      "source": [
        "#Tutorial 2 Question 9\n",
        "arg1 = [1, 2, 3, 4]\n",
        "arg2 = [5, 6, 7, 8]\n",
        "ans = map(lambda in1, in2: in1*in2+2, arg1, arg2)\n",
        "ans = list(ans)\n",
        "print(ans)"
      ],
      "metadata": {
        "id": "trdDx1fJlkdH",
        "outputId": "4c018a9b-2f60-440b-a313-9c4d7645ef5d",
        "colab": {
          "base_uri": "https://localhost:8080/"
        }
      },
      "execution_count": null,
      "outputs": [
        {
          "output_type": "stream",
          "name": "stdout",
          "text": [
            "[7, 14, 23, 34]\n"
          ]
        }
      ]
    },
    {
      "cell_type": "markdown",
      "source": [
        "Tutorial 2 Question 10\n",
        "\n",
        "What is the outcome of the filter function as follows? Please re-write the equivalent lambda function and display the results.\n",
        "\n",
        "\n",
        "\n",
        "```\n",
        "def fn_Q10(in1): # define a function with 1 input\n",
        "if in1 > -10 and in1 < 10:\n",
        "return True\n",
        "else:\n",
        "return False\n",
        "num = [-15, 32, 5, 18, 8, -7, 0, 10] # input list\n",
        "result = filter(fn_Q10, num) # filter function\n",
        "result = list(result) # output list\n",
        "print(result) # print out results\n",
        "```\n",
        "\n"
      ],
      "metadata": {
        "id": "-K6PDIkQnwis"
      }
    },
    {
      "cell_type": "code",
      "source": [
        "#Tutorial 2 Question 10\n",
        "num = [-15, 32, 5, 18, 8, -7, 0, 10]\n",
        "ans = filter(lambda in1:  in1>-10 and in1<10, num)\n",
        "print(ans)"
      ],
      "metadata": {
        "id": "3dIqk78_nzDP",
        "outputId": "aa24b502-0bda-4985-e7d8-64570b6b41b6",
        "colab": {
          "base_uri": "https://localhost:8080/"
        }
      },
      "execution_count": null,
      "outputs": [
        {
          "output_type": "stream",
          "name": "stdout",
          "text": [
            "<filter object at 0x7f3c2490bc50>\n"
          ]
        }
      ]
    },
    {
      "cell_type": "code",
      "source": [
        "#Activity 5.6\n",
        "# Quiz for 16 September Lecture Question:\n",
        "#\"\"\"\"\n",
        "# Coding competition will be held in Glasgow.\n",
        "# In order to promote the competition, a luckydraw will tke place.\n",
        "# One participant will be awarded a coupon for KOREAN BBQ\n",
        "# Three participant wil be awarded coupons for Starbucks coffee\n",
        "#Develop a luckdraw progam\n",
        "from random import *\n",
        "part = range(1,21) #from 1-20\n",
        "print (part)\n",
        "\n",
        "part_list = list(part)\n",
        "print(part)\n",
        "\n",
        "winners = sample(part, 4)\n",
        "print(winners)\n",
        "\n",
        "print(\"winners\")\n",
        "print(\"Korean bbq: {}\".format(winners[0]))\n",
        "print(\"starbucks: {}\".format(winners[1:]))"
      ],
      "metadata": {
        "colab": {
          "base_uri": "https://localhost:8080/"
        },
        "id": "gIAuq54ydHBw",
        "outputId": "f825dbcb-0ff5-4308-ef5c-ed12e8eaa1b2"
      },
      "execution_count": null,
      "outputs": [
        {
          "output_type": "stream",
          "name": "stdout",
          "text": [
            "range(1, 21)\n",
            "range(1, 21)\n",
            "[15, 1, 13, 5]\n",
            "winners\n",
            "Korean bbq: 15\n",
            "starbucks: [1, 13, 5]\n"
          ]
        }
      ]
    },
    {
      "cell_type": "code",
      "source": [
        "#5.3 Activity\n",
        "# Dicionary in Python\n",
        "## Parking lot system\n",
        "print(\"example of Parking Lot System\")\n",
        "parking_lot = {3: \"Kim\", 100:\"Park\"} #assessing the parking lot number to Kim and Park\n",
        "print(parking_lot)\n",
        "print(parking_lot[3]) #It is to identify a person who is aking a parking lot specified.\n",
        "print(parking_lot[100])\n",
        "print(parking_lot.get(3)) #It is to utilize \"get()\" instead of \"[]\"\n",
        "print(parking_lot.get(100))"
      ],
      "metadata": {
        "id": "8E9_HWA2ZPlt",
        "colab": {
          "base_uri": "https://localhost:8080/"
        },
        "outputId": "e8573957-c135-497c-efb1-fc6e5b82ea18"
      },
      "execution_count": null,
      "outputs": [
        {
          "output_type": "stream",
          "name": "stdout",
          "text": [
            "example of Parking Lot System\n",
            "{3: 'Kim', 100: 'Park'}\n",
            "Kim\n",
            "Park\n",
            "Kim\n",
            "Park\n"
          ]
        }
      ]
    }
  ]
}